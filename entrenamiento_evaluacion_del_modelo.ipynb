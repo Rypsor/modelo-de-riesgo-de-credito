{
 "cells": [
  {
   "cell_type": "markdown",
   "metadata": {},
   "source": [
    "# Detalles del Modelo de Red Neuronal para Predicción de Incumplimiento de Crédito\n",
    "\n",
    "## Arquitectura del Modelo\n",
    "El modelo tiene una arquitectura **secuencial**, lo que significa que las capas están organizadas en orden, una después de otra. A continuación, se detalla su estructura:\n",
    "\n",
    "### Capas\n",
    "1. **Capa de Entrada**:\n",
    "   - **Neuronas**: 128\n",
    "   - **Función de Activación**: `ReLU` (Rectified Linear Unit).\n",
    "   - **Descripción**: Esta es la capa que recibe las características normalizadas como entrada. Cada característica corresponde a una neurona.\n",
    "\n",
    "2. **Primera Capa Oculta**:\n",
    "   - **Neuronas**: 64\n",
    "   - **Función de Activación**: `ReLU`.\n",
    "   - **Dropout**: 30%. Esto significa que el 30% de las neuronas se desactivan aleatoriamente durante cada paso de entrenamiento para prevenir el sobreajuste.\n",
    "\n",
    "3. **Segunda Capa Oculta**:\n",
    "   - **Neuronas**: 32\n",
    "   - **Función de Activación**: `ReLU`.\n",
    "   - **Dropout**: 30%.\n",
    "\n",
    "4. **Capa de Salida**:\n",
    "   - **Neuronas**: 1\n",
    "   - **Función de Activación**: `Sigmoid`.\n",
    "   - **Descripción**: Esta capa produce una salida entre 0 y 1, que representa la probabilidad de incumplir el pago del préstamo.\n",
    "\n",
    "---\n",
    "\n",
    "## Parámetros de Compilación\n",
    "1. **`loss`**:\n",
    "   - Valor: `binary_crossentropy`.\n",
    "   - Descripción: La función de pérdida mide la diferencia entre las probabilidades predichas por el modelo y las etiquetas reales. Es adecuada para problemas de clasificación binaria.\n",
    "\n",
    "2. **`optimizer`**:\n",
    "   - Valor: `adam`.\n",
    "   - Descripción: Es un optimizador adaptativo que ajusta los pesos del modelo basándose en el gradiente descendente. Combina las ventajas de los métodos RMSProp y Momentum.\n",
    "\n",
    "3. **Métricas**:\n",
    "   - Métrica principal: `accuracy` (precisión).\n",
    "   - Descripción: Mide la proporción de predicciones correctas del modelo.\n",
    "\n",
    "---\n",
    "\n",
    "## Normalización de Características\n",
    "La normalización de características se realizó para mejorar la capacidad del modelo de entrenar eficientemente. Esto se logró mediante `StandardScaler` de scikit-learn. A continuación, se detalla el proceso:\n",
    "\n",
    "1. **Características Seleccionadas**:\n",
    "   - Todas las características numéricas del conjunto de datos.\n",
    "\n",
    "2. **Proceso**:\n",
    "   - Cada característica fue transformada para tener:\n",
    "     - **Media**: 0.\n",
    "     - **Desviación estándar**: 1.\n",
    "\n",
    "\n",
    "3. **Resultados**:\n",
    "   - Las características normalizadas aseguran que todas las entradas al modelo estén en la misma escala, lo que previene problemas de dominancia de características con valores más altos.\n",
    "\n",
    "---\n",
    "\n",
    "## Entrenamiento del Modelo\n",
    "1. **Épocas**:\n",
    "   - Número total: 20.\n",
    "   - Descripción: Cada época implica pasar por todo el conjunto de datos de entrenamiento una vez para ajustar los pesos del modelo.\n",
    "\n",
    "2. **Tamaño del Lote**:\n",
    "   - Valor: 32.\n",
    "   - Descripción: Número de muestras procesadas antes de actualizar los pesos.\n",
    "\n",
    "3. **Conjunto de Validación**:\n",
    "   - Porcentaje: 20%.\n",
    "   - Descripción: Parte del conjunto de entrenamiento reservada para evaluar el rendimiento del modelo durante el entrenamiento.\n",
    "\n",
    "---\n",
    "\n",
    "## Ventajas de la Arquitectura y Configuración\n",
    "1. **ReLU**:\n",
    "   - Beneficio: Resuelve problemas de desvanecimiento de gradiente y acelera la convergencia.\n",
    "2. **Sigmoid**:\n",
    "   - Beneficio: Adecuado para problemas de clasificación binaria, ya que produce probabilidades.\n",
    "3. **Dropout**:\n",
    "   - Beneficio: Reduce el sobreajuste al desactivar neuronas de forma aleatoria.\n",
    "\n",
    "---\n"
   ]
  },
  {
   "cell_type": "markdown",
   "metadata": {},
   "source": [
    "## 1. Normalización de los datos "
   ]
  },
  {
   "cell_type": "code",
   "execution_count": 11,
   "metadata": {},
   "outputs": [],
   "source": [
    "import pandas as pd\n",
    "from sklearn.preprocessing import StandardScaler, LabelEncoder\n",
    "\n",
    "# Cargar datos\n",
    "data = pd.read_csv(\"cleaned_dataset.csv\")\n",
    "\n",
    "# Convertir variables categóricas a numéricas\n",
    "categorical_features = ['term', 'sub_grade', 'home_ownership', 'verification_status', 'purpose', 'initial_list_status', 'application_type']\n",
    "label_encoders = {}\n",
    "for col in categorical_features:\n",
    "    le = LabelEncoder()\n",
    "    data[col] = le.fit_transform(data[col].astype(str))\n",
    "    label_encoders[col] = le\n",
    "\n",
    "# Separar características y etiqueta\n",
    "X = data[['term', 'int_rate', 'installment', 'sub_grade', 'emp_length', 'home_ownership',\n",
    "          'annual_inc', 'verification_status', 'purpose', 'dti', 'delinq_2yrs', 'inq_last_6mths',\n",
    "          'open_acc', 'pub_rec', 'revol_bal', 'revol_util', 'total_acc', 'initial_list_status',\n",
    "          'out_prncp', 'total_rec_prncp', 'total_rec_int', 'total_rec_late_fee', 'last_pymnt_amnt',\n",
    "          'collections_12_mths_ex_med', 'application_type', 'acc_now_delinq', 'tot_coll_amt',\n",
    "          'tot_cur_bal', 'total_rev_hi_lim']]\n",
    "\n",
    "y = data['loan_status']\n",
    "\n",
    "# Escalar características numéricas\n",
    "scaler = StandardScaler()\n",
    "X_scaled = scaler.fit_transform(X)\n"
   ]
  },
  {
   "cell_type": "markdown",
   "metadata": {},
   "source": [
    "## 2. División en Conjuntos de Entrenamiento y Prueba"
   ]
  },
  {
   "cell_type": "code",
   "execution_count": 12,
   "metadata": {},
   "outputs": [],
   "source": [
    "from sklearn.model_selection import train_test_split\n",
    "\n",
    "# Dividir los datos en conjuntos de entrenamiento y prueba\n",
    "X_train, X_test, y_train, y_test = train_test_split(X_scaled, y, test_size=0.2, random_state=42)\n"
   ]
  },
  {
   "cell_type": "markdown",
   "metadata": {},
   "source": [
    "## 3. Construcción, Compilación y Entrenamiento del Modelo"
   ]
  },
  {
   "cell_type": "code",
   "execution_count": 13,
   "metadata": {},
   "outputs": [
    {
     "name": "stderr",
     "output_type": "stream",
     "text": [
      "c:\\Users\\samue\\AppData\\Local\\Programs\\Python\\Python311\\Lib\\site-packages\\keras\\src\\layers\\core\\dense.py:87: UserWarning: Do not pass an `input_shape`/`input_dim` argument to a layer. When using Sequential models, prefer using an `Input(shape)` object as the first layer in the model instead.\n",
      "  super().__init__(activity_regularizer=activity_regularizer, **kwargs)\n"
     ]
    },
    {
     "name": "stdout",
     "output_type": "stream",
     "text": [
      "Epoch 1/20\n",
      "\u001b[1m15480/15480\u001b[0m \u001b[32m━━━━━━━━━━━━━━━━━━━━\u001b[0m\u001b[37m\u001b[0m \u001b[1m52s\u001b[0m 3ms/step - accuracy: 0.9738 - loss: 0.1022 - val_accuracy: 0.9834 - val_loss: 0.0722\n",
      "Epoch 2/20\n",
      "\u001b[1m15480/15480\u001b[0m \u001b[32m━━━━━━━━━━━━━━━━━━━━\u001b[0m\u001b[37m\u001b[0m \u001b[1m49s\u001b[0m 3ms/step - accuracy: 0.9834 - loss: 0.0734 - val_accuracy: 0.9837 - val_loss: 0.0712\n",
      "Epoch 3/20\n",
      "\u001b[1m15480/15480\u001b[0m \u001b[32m━━━━━━━━━━━━━━━━━━━━\u001b[0m\u001b[37m\u001b[0m \u001b[1m49s\u001b[0m 3ms/step - accuracy: 0.9836 - loss: 0.0723 - val_accuracy: 0.9834 - val_loss: 0.0716\n",
      "Epoch 4/20\n",
      "\u001b[1m15480/15480\u001b[0m \u001b[32m━━━━━━━━━━━━━━━━━━━━\u001b[0m\u001b[37m\u001b[0m \u001b[1m47s\u001b[0m 3ms/step - accuracy: 0.9835 - loss: 0.0724 - val_accuracy: 0.9839 - val_loss: 0.0707\n",
      "Epoch 5/20\n",
      "\u001b[1m15480/15480\u001b[0m \u001b[32m━━━━━━━━━━━━━━━━━━━━\u001b[0m\u001b[37m\u001b[0m \u001b[1m47s\u001b[0m 3ms/step - accuracy: 0.9837 - loss: 0.0718 - val_accuracy: 0.9837 - val_loss: 0.0708\n",
      "Epoch 6/20\n",
      "\u001b[1m15480/15480\u001b[0m \u001b[32m━━━━━━━━━━━━━━━━━━━━\u001b[0m\u001b[37m\u001b[0m \u001b[1m47s\u001b[0m 3ms/step - accuracy: 0.9839 - loss: 0.0711 - val_accuracy: 0.9839 - val_loss: 0.0707\n",
      "Epoch 7/20\n",
      "\u001b[1m15480/15480\u001b[0m \u001b[32m━━━━━━━━━━━━━━━━━━━━\u001b[0m\u001b[37m\u001b[0m \u001b[1m48s\u001b[0m 3ms/step - accuracy: 0.9837 - loss: 0.0714 - val_accuracy: 0.9839 - val_loss: 0.0704\n",
      "Epoch 8/20\n",
      "\u001b[1m15480/15480\u001b[0m \u001b[32m━━━━━━━━━━━━━━━━━━━━\u001b[0m\u001b[37m\u001b[0m \u001b[1m48s\u001b[0m 3ms/step - accuracy: 0.9836 - loss: 0.0717 - val_accuracy: 0.9840 - val_loss: 0.0698\n",
      "Epoch 9/20\n",
      "\u001b[1m15480/15480\u001b[0m \u001b[32m━━━━━━━━━━━━━━━━━━━━\u001b[0m\u001b[37m\u001b[0m \u001b[1m48s\u001b[0m 3ms/step - accuracy: 0.9837 - loss: 0.0707 - val_accuracy: 0.9835 - val_loss: 0.0708\n",
      "Epoch 10/20\n",
      "\u001b[1m15480/15480\u001b[0m \u001b[32m━━━━━━━━━━━━━━━━━━━━\u001b[0m\u001b[37m\u001b[0m \u001b[1m48s\u001b[0m 3ms/step - accuracy: 0.9836 - loss: 0.0716 - val_accuracy: 0.9839 - val_loss: 0.0710\n",
      "Epoch 11/20\n",
      "\u001b[1m15480/15480\u001b[0m \u001b[32m━━━━━━━━━━━━━━━━━━━━\u001b[0m\u001b[37m\u001b[0m \u001b[1m48s\u001b[0m 3ms/step - accuracy: 0.9839 - loss: 0.0700 - val_accuracy: 0.9838 - val_loss: 0.0699\n",
      "Epoch 12/20\n",
      "\u001b[1m15480/15480\u001b[0m \u001b[32m━━━━━━━━━━━━━━━━━━━━\u001b[0m\u001b[37m\u001b[0m \u001b[1m54s\u001b[0m 3ms/step - accuracy: 0.9838 - loss: 0.0707 - val_accuracy: 0.9837 - val_loss: 0.0705\n",
      "Epoch 13/20\n",
      "\u001b[1m15480/15480\u001b[0m \u001b[32m━━━━━━━━━━━━━━━━━━━━\u001b[0m\u001b[37m\u001b[0m \u001b[1m52s\u001b[0m 3ms/step - accuracy: 0.9838 - loss: 0.0710 - val_accuracy: 0.9841 - val_loss: 0.0691\n",
      "Epoch 14/20\n",
      "\u001b[1m15480/15480\u001b[0m \u001b[32m━━━━━━━━━━━━━━━━━━━━\u001b[0m\u001b[37m\u001b[0m \u001b[1m50s\u001b[0m 3ms/step - accuracy: 0.9837 - loss: 0.0713 - val_accuracy: 0.9840 - val_loss: 0.0694\n",
      "Epoch 15/20\n",
      "\u001b[1m15480/15480\u001b[0m \u001b[32m━━━━━━━━━━━━━━━━━━━━\u001b[0m\u001b[37m\u001b[0m \u001b[1m57s\u001b[0m 4ms/step - accuracy: 0.9839 - loss: 0.0707 - val_accuracy: 0.9841 - val_loss: 0.0693\n",
      "Epoch 16/20\n",
      "\u001b[1m15480/15480\u001b[0m \u001b[32m━━━━━━━━━━━━━━━━━━━━\u001b[0m\u001b[37m\u001b[0m \u001b[1m48s\u001b[0m 3ms/step - accuracy: 0.9840 - loss: 0.0697 - val_accuracy: 0.9841 - val_loss: 0.0694\n",
      "Epoch 17/20\n",
      "\u001b[1m15480/15480\u001b[0m \u001b[32m━━━━━━━━━━━━━━━━━━━━\u001b[0m\u001b[37m\u001b[0m \u001b[1m57s\u001b[0m 4ms/step - accuracy: 0.9841 - loss: 0.0694 - val_accuracy: 0.9839 - val_loss: 0.0701\n",
      "Epoch 18/20\n",
      "\u001b[1m15480/15480\u001b[0m \u001b[32m━━━━━━━━━━━━━━━━━━━━\u001b[0m\u001b[37m\u001b[0m \u001b[1m54s\u001b[0m 3ms/step - accuracy: 0.9841 - loss: 0.0692 - val_accuracy: 0.9841 - val_loss: 0.0703\n",
      "Epoch 19/20\n",
      "\u001b[1m15480/15480\u001b[0m \u001b[32m━━━━━━━━━━━━━━━━━━━━\u001b[0m\u001b[37m\u001b[0m \u001b[1m62s\u001b[0m 4ms/step - accuracy: 0.9840 - loss: 0.0693 - val_accuracy: 0.9841 - val_loss: 0.0693\n",
      "Epoch 20/20\n",
      "\u001b[1m15480/15480\u001b[0m \u001b[32m━━━━━━━━━━━━━━━━━━━━\u001b[0m\u001b[37m\u001b[0m \u001b[1m54s\u001b[0m 4ms/step - accuracy: 0.9840 - loss: 0.0699 - val_accuracy: 0.9841 - val_loss: 0.0687\n",
      "\n",
      "Evaluación del modelo:\n",
      "Pérdida: 0.0681\n",
      "Precisión: 0.9842\n"
     ]
    }
   ],
   "source": [
    "from tensorflow.keras.models import Sequential\n",
    "from tensorflow.keras.layers import Dense, Dropout\n",
    "\n",
    "# Construir el modelo de red neuronal\n",
    "model = Sequential([\n",
    "    Dense(128, activation='relu', input_shape=(X_train.shape[1],)),\n",
    "    Dropout(0.3),\n",
    "    Dense(64, activation='relu'),\n",
    "    Dropout(0.3),\n",
    "    Dense(32, activation='relu'),\n",
    "    Dense(1, activation='sigmoid')\n",
    "])\n",
    "\n",
    "# Compilar el modelo\n",
    "model.compile(optimizer='adam', loss='binary_crossentropy', metrics=['accuracy'])\n",
    "\n",
    "# Entrenar el modelo\n",
    "history = model.fit(X_train, y_train, epochs=20, batch_size=32, validation_split=0.2, verbose=1)\n",
    "\n",
    "# Evaluar el modelo\n",
    "eval_results = model.evaluate(X_test, y_test, verbose=0)\n",
    "print(f\"\\nEvaluación del modelo:\\nPérdida: {eval_results[0]:.4f}\\nPrecisión: {eval_results[1]:.4f}\")\n",
    "\n"
   ]
  },
  {
   "cell_type": "markdown",
   "metadata": {},
   "source": [
    "## Se guarda el modelo"
   ]
  },
  {
   "cell_type": "code",
   "execution_count": 14,
   "metadata": {},
   "outputs": [],
   "source": [
    "model.save(\"modelo_probabilidad.keras\")\n",
    "\n"
   ]
  },
  {
   "cell_type": "markdown",
   "metadata": {},
   "source": [
    "## Evaluación del modelo"
   ]
  },
  {
   "cell_type": "code",
   "execution_count": 16,
   "metadata": {},
   "outputs": [
    {
     "name": "stdout",
     "output_type": "stream",
     "text": [
      "\u001b[1m4838/4838\u001b[0m \u001b[32m━━━━━━━━━━━━━━━━━━━━\u001b[0m\u001b[37m\u001b[0m \u001b[1m8s\u001b[0m 2ms/step\n"
     ]
    },
    {
     "data": {
      "image/png": "[encoded data removed]",
      "text/plain": [
       "<Figure size 640x480 with 2 Axes>"
      ]
     },
     "metadata": {},
     "output_type": "display_data"
    },
    {
     "name": "stdout",
     "output_type": "stream",
     "text": [
      "Reporte de Clasificación:\n",
      "              precision    recall  f1-score   support\n",
      "\n",
      " No Incumple       1.00      0.72      0.84      8855\n",
      "    Incumple       0.98      1.00      0.99    145939\n",
      "\n",
      "    accuracy                           0.98    154794\n",
      "   macro avg       0.99      0.86      0.92    154794\n",
      "weighted avg       0.98      0.98      0.98    154794\n",
      "\n",
      "Precisión (Accuracy): 0.9842\n",
      "Precisión (Precision): 0.9836\n",
      "Sensibilidad (Recall): 1.0000\n",
      "Especificidad: 0.7248\n",
      "F1-Score: 0.9917\n"
     ]
    }
   ],
   "source": [
    "from tensorflow.keras.models import load_model\n",
    "from sklearn.metrics import confusion_matrix, classification_report, ConfusionMatrixDisplay\n",
    "import matplotlib.pyplot as plt\n",
    "\n",
    "# Cargar el modelo entrenado\n",
    "model = load_model(\"modelo_probabilidad.keras\")\n",
    "\n",
    "# Generar predicciones con los datos de prueba\n",
    "y_pred_prob = model.predict(X_test)  # Obtiene probabilidades\n",
    "y_pred = (y_pred_prob > 0.5).astype(int)  # Convierte a clases binarias (0 o 1)\n",
    "\n",
    "# Matriz de confusión\n",
    "cm = confusion_matrix(y_test, y_pred)\n",
    "disp = ConfusionMatrixDisplay(confusion_matrix=cm, display_labels=[\"No Incumple\", \"Incumple\"])\n",
    "disp.plot(cmap=plt.cm.Blues)\n",
    "plt.title(\"Matriz de Confusión\")\n",
    "plt.show()\n",
    "\n",
    "# Reporte de clasificación\n",
    "report = classification_report(y_test, y_pred, target_names=[\"No Incumple\", \"Incumple\"])\n",
    "print(\"Reporte de Clasificación:\")\n",
    "print(report)\n",
    "\n",
    "# Métricas adicionales\n",
    "tn, fp, fn, tp = cm.ravel()\n",
    "accuracy = (tp + tn) / (tn + fp + fn + tp)\n",
    "precision = tp / (tp + fp) if (tp + fp) != 0 else 0\n",
    "recall = tp / (tp + fn) if (tp + fn) != 0 else 0\n",
    "specificity = tn / (tn + fp) if (tn + fp) != 0 else 0\n",
    "f1_score = 2 * (precision * recall) / (precision + recall) if (precision + recall) != 0 else 0\n",
    "\n",
    "print(f\"Precisión (Accuracy): {accuracy:.4f}\")\n",
    "print(f\"Precisión (Precision): {precision:.4f}\")\n",
    "print(f\"Sensibilidad (Recall): {recall:.4f}\")\n",
    "print(f\"Especificidad: {specificity:.4f}\")\n",
    "print(f\"F1-Score: {f1_score:.4f}\")\n"
   ]
  },
  {
   "cell_type": "code",
   "execution_count": 3,
   "metadata": {},
   "outputs": [],
   "source": []
  },
  {
   "cell_type": "code",
   "execution_count": null,
   "metadata": {},
   "outputs": [],
   "source": []
  },
  {
   "cell_type": "code",
   "execution_count": null,
   "metadata": {},
   "outputs": [
    {
     "name": "stdout",
     "output_type": "stream",
     "text": [
      "6502\n",
      "7205\n"
     ]
    }
   ],
   "source": []
  }
 ],
 "metadata": {
  "kernelspec": {
   "display_name": "Python 3",
   "language": "python",
   "name": "python3"
  },
  "language_info": {
   "codemirror_mode": {
    "name": "ipython",
    "version": 3
   },
   "file_extension": ".py",
   "mimetype": "text/x-python",
   "name": "python",
   "nbconvert_exporter": "python",
   "pygments_lexer": "ipython3",
   "version": "3.11.5"
  }
 },
 "nbformat": 4,
 "nbformat_minor": 2
}
