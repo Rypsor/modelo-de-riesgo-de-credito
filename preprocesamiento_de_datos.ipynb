{
 "cells": [
  {
   "cell_type": "markdown",
   "metadata": {},
   "source": [
    "observemos para qué características se presenta información faltante"
   ]
  },
  {
   "cell_type": "markdown",
   "metadata": {},
   "source": []
  },
  {
   "cell_type": "code",
   "execution_count": 58,
   "metadata": {},
   "outputs": [
    {
     "name": "stderr",
     "output_type": "stream",
     "text": [
      "C:\\Users\\samue\\AppData\\Local\\Temp\\ipykernel_1016\\251971465.py:3: DtypeWarning: Columns (19,55) have mixed types. Specify dtype option on import or set low_memory=False.\n",
      "  dataset = pd.read_csv('loan.csv')  # Reemplaza con el nombre de tu archivo\n"
     ]
    }
   ],
   "source": [
    "import pandas as pd\n",
    "# Cargar el dataset completo\n",
    "dataset = pd.read_csv('loan.csv')  # Reemplaza con el nombre de tu archivo"
   ]
  },
  {
   "cell_type": "code",
   "execution_count": 59,
   "metadata": {},
   "outputs": [
    {
     "name": "stdout",
     "output_type": "stream",
     "text": [
      "                      Attribute  Completeness (%)\n",
      "0                            id        100.000000\n",
      "39              total_pymnt_inv        100.000000\n",
      "23                   addr_state        100.000000\n",
      "24                          dti        100.000000\n",
      "32                    revol_bal        100.000000\n",
      "35          initial_list_status        100.000000\n",
      "36                    out_prncp        100.000000\n",
      "1                     member_id        100.000000\n",
      "38                  total_pymnt        100.000000\n",
      "40              total_rec_prncp        100.000000\n",
      "20                      purpose        100.000000\n",
      "41                total_rec_int        100.000000\n",
      "42           total_rec_late_fee        100.000000\n",
      "43                   recoveries        100.000000\n",
      "44      collection_recovery_fee        100.000000\n",
      "46              last_pymnt_amnt        100.000000\n",
      "51                  policy_code        100.000000\n",
      "52             application_type        100.000000\n",
      "22                     zip_code        100.000000\n",
      "37                out_prncp_inv        100.000000\n",
      "14          verification_status        100.000000\n",
      "15                      issue_d        100.000000\n",
      "4               funded_amnt_inv        100.000000\n",
      "5                          term        100.000000\n",
      "6                      int_rate        100.000000\n",
      "7                   installment        100.000000\n",
      "8                         grade        100.000000\n",
      "9                     sub_grade        100.000000\n",
      "12               home_ownership        100.000000\n",
      "3                   funded_amnt        100.000000\n",
      "2                     loan_amnt        100.000000\n",
      "18                          url        100.000000\n",
      "17                   pymnt_plan        100.000000\n",
      "16                  loan_status        100.000000\n",
      "13                   annual_inc         99.999549\n",
      "31                      pub_rec         99.996732\n",
      "27               inq_last_6mths         99.996732\n",
      "25                  delinq_2yrs         99.996732\n",
      "30                     open_acc         99.996732\n",
      "26             earliest_cr_line         99.996732\n",
      "56               acc_now_delinq         99.996732\n",
      "34                    total_acc         99.996732\n",
      "48           last_credit_pull_d         99.994027\n",
      "49   collections_12_mths_ex_med         99.983660\n",
      "21                        title         99.982758\n",
      "33                   revol_util         99.943429\n",
      "45                 last_pymnt_d         98.009982\n",
      "11                   emp_length         94.948607\n",
      "10                    emp_title         94.200674\n",
      "58                  tot_cur_bal         92.080498\n",
      "70             total_rev_hi_lim         92.080498\n",
      "57                 tot_coll_amt         92.080498\n",
      "47                 next_pymnt_d         71.492339\n",
      "28       mths_since_last_delinq         48.802935\n",
      "50  mths_since_last_major_derog         24.984026\n",
      "29       mths_since_last_record         15.444697\n",
      "19                         desc         14.202049\n",
      "73                 inq_last_12m          2.408441\n",
      "71                       inq_fi          2.408441\n",
      "59                  open_acc_6m          2.408441\n",
      "60                   open_il_6m          2.408441\n",
      "61                  open_il_12m          2.408441\n",
      "62                  open_il_24m          2.408441\n",
      "64                 total_bal_il          2.408441\n",
      "72                  total_cu_tl          2.408441\n",
      "66                  open_rv_12m          2.408441\n",
      "67                  open_rv_24m          2.408441\n",
      "68                   max_bal_bc          2.408441\n",
      "69                     all_util          2.408441\n",
      "63           mths_since_rcnt_il          2.345108\n",
      "65                      il_util          2.097976\n",
      "53             annual_inc_joint          0.057585\n",
      "55    verification_status_joint          0.057585\n",
      "54                    dti_joint          0.057360\n"
     ]
    }
   ],
   "source": [
    "\n",
    "pd.set_option('display.max_rows', 76)\n",
    "\n",
    "\n",
    "\n",
    "# Calcular el porcentaje de entradas no nulas para cada atributo\n",
    "attribute_completeness = dataset.notnull().mean() * 100\n",
    "\n",
    "# Convertir los resultados en un DataFrame para facilitar su lectura\n",
    "attribute_completeness_df = attribute_completeness.reset_index()\n",
    "attribute_completeness_df.columns = ['Attribute', 'Completeness (%)']\n",
    "\n",
    "# Ordenar por porcentaje de completitud\n",
    "attribute_completeness_df = attribute_completeness_df.sort_values(by='Completeness (%)', ascending=False)\n",
    "\n",
    "# Mostrar el resultado\n",
    "print(attribute_completeness_df)\n",
    "\n",
    "\n"
   ]
  },
  {
   "cell_type": "markdown",
   "metadata": {},
   "source": [
    "se eliminan las columnas para las caracteristicas con una presencia menor o igual al 25%:"
   ]
  },
  {
   "cell_type": "code",
   "execution_count": 60,
   "metadata": {},
   "outputs": [
    {
     "name": "stdout",
     "output_type": "stream",
     "text": [
      "Columnas eliminadas: ['desc', 'mths_since_last_record', 'mths_since_last_major_derog', 'annual_inc_joint', 'dti_joint', 'verification_status_joint', 'open_acc_6m', 'open_il_6m', 'open_il_12m', 'open_il_24m', 'mths_since_rcnt_il', 'total_bal_il', 'il_util', 'open_rv_12m', 'open_rv_24m', 'max_bal_bc', 'all_util', 'inq_fi', 'total_cu_tl', 'inq_last_12m']\n"
     ]
    }
   ],
   "source": [
    "# Filtrar columnas con más del 25% de datos presentes\n",
    "columns_to_keep = attribute_completeness[attribute_completeness > 25].index\n",
    "\n",
    "# Crear un nuevo dataset con las columnas filtradas\n",
    "filtered_dataset = dataset[columns_to_keep]\n",
    "\n",
    "# Guardar el dataset filtrado en un nuevo archivo CSV\n",
    "filtered_dataset.to_csv('loan_filtrado.csv', index=False)\n",
    "\n",
    "\n",
    "dataset = pd.read_csv('loan_filtrado.csv')\n",
    "# Mostrar las columnas eliminadas\n",
    "removed_columns = attribute_completeness[attribute_completeness <= 25].index\n",
    "print(f\"Columnas eliminadas: {list(removed_columns)}\")"
   ]
  },
  {
   "cell_type": "code",
   "execution_count": 61,
   "metadata": {},
   "outputs": [
    {
     "name": "stdout",
     "output_type": "stream",
     "text": [
      "                     Attribute  Completeness (%)\n",
      "0                           id        100.000000\n",
      "40          total_rec_late_fee        100.000000\n",
      "44             last_pymnt_amnt        100.000000\n",
      "21                    zip_code        100.000000\n",
      "22                  addr_state        100.000000\n",
      "23                         dti        100.000000\n",
      "42     collection_recovery_fee        100.000000\n",
      "41                  recoveries        100.000000\n",
      "1                    member_id        100.000000\n",
      "18                         url        100.000000\n",
      "39               total_rec_int        100.000000\n",
      "38             total_rec_prncp        100.000000\n",
      "30                   revol_bal        100.000000\n",
      "37             total_pymnt_inv        100.000000\n",
      "36                 total_pymnt        100.000000\n",
      "33         initial_list_status        100.000000\n",
      "19                     purpose        100.000000\n",
      "17                  pymnt_plan        100.000000\n",
      "35               out_prncp_inv        100.000000\n",
      "8                        grade        100.000000\n",
      "2                    loan_amnt        100.000000\n",
      "3                  funded_amnt        100.000000\n",
      "4              funded_amnt_inv        100.000000\n",
      "5                         term        100.000000\n",
      "6                     int_rate        100.000000\n",
      "7                  installment        100.000000\n",
      "9                    sub_grade        100.000000\n",
      "16                 loan_status        100.000000\n",
      "49            application_type        100.000000\n",
      "48                 policy_code        100.000000\n",
      "12              home_ownership        100.000000\n",
      "14         verification_status        100.000000\n",
      "15                     issue_d        100.000000\n",
      "34                   out_prncp        100.000000\n",
      "13                  annual_inc         99.999549\n",
      "25            earliest_cr_line         99.996732\n",
      "32                   total_acc         99.996732\n",
      "29                     pub_rec         99.996732\n",
      "28                    open_acc         99.996732\n",
      "26              inq_last_6mths         99.996732\n",
      "24                 delinq_2yrs         99.996732\n",
      "50              acc_now_delinq         99.996732\n",
      "46          last_credit_pull_d         99.994027\n",
      "47  collections_12_mths_ex_med         99.983660\n",
      "20                       title         99.982758\n",
      "31                  revol_util         99.943429\n",
      "43                last_pymnt_d         98.009982\n",
      "11                  emp_length         94.948607\n",
      "10                   emp_title         94.200674\n",
      "51                tot_coll_amt         92.080498\n",
      "52                 tot_cur_bal         92.080498\n",
      "53            total_rev_hi_lim         92.080498\n",
      "45                next_pymnt_d         71.492339\n",
      "27      mths_since_last_delinq         48.802935\n"
     ]
    }
   ],
   "source": [
    "\n",
    "pd.set_option('display.max_rows', 76)\n",
    "\n",
    "# Calcular el porcentaje de entradas no nulas para cada atributo\n",
    "attribute_completeness = dataset.notnull().mean() * 100\n",
    "\n",
    "# Convertir los resultados en un DataFrame para facilitar su lectura\n",
    "attribute_completeness_df = attribute_completeness.reset_index()\n",
    "attribute_completeness_df.columns = ['Attribute', 'Completeness (%)']\n",
    "\n",
    "# Ordenar por porcentaje de completitud\n",
    "attribute_completeness_df = attribute_completeness_df.sort_values(by='Completeness (%)', ascending=False)\n",
    "\n",
    "\n",
    "# Mostrar el resultado\n",
    "print(attribute_completeness_df)\n",
    "\n",
    "\n"
   ]
  },
  {
   "cell_type": "markdown",
   "metadata": {},
   "source": [
    "se eliminan caracteristicas que por su descripción o caracteristicas no son útiles para el modelo"
   ]
  },
  {
   "cell_type": "markdown",
   "metadata": {},
   "source": []
  },
  {
   "cell_type": "markdown",
   "metadata": {},
   "source": [
    "#  **Lista de Columnas Eliminadas y Razones de Eliminación**\n",
    "\n",
    "En este proyecto de predicción de incumplimiento de crédito, hemos eliminado varias características que no aportan valor predictivo o que introducen sesgos en el modelo. A continuación, se explican las razones específicas para cada variable eliminada.\n",
    "\n",
    "---\n",
    "\n",
    "## **1️ Características Irrelevantes**\n",
    "Estas características no aportan información útil para la predicción del incumplimiento de crédito.\n",
    "\n",
    "- **`desc` y `title`**  \n",
    "  - Son descripciones textuales proporcionadas por los clientes.  \n",
    "  - No tienen un formato estructurado, lo que las hace difíciles de procesar.  \n",
    "  - `title` es redundante con `purpose`, que ya clasifica el propósito del préstamo.  \n",
    "\n",
    "- **`url`**  \n",
    "  - Contiene enlaces a detalles del préstamo, sin valor predictivo.  \n",
    "\n",
    "- **`policy_code`**  \n",
    "  - Código interno del prestamista, irrelevante para el análisis.  \n",
    "\n",
    "- **`member_id` y `id`**  \n",
    "  - Son identificadores únicos de clientes y préstamos, sin relación con el incumplimiento.  \n",
    "\n",
    "---\n",
    "\n",
    "## **2️ Características con Alta Cardinalidad**\n",
    "Las siguientes variables tienen demasiados valores únicos, lo que dificulta su uso sin aumentar demasiado la complejidad del modelo.\n",
    "\n",
    "- **`emp_title`**  \n",
    "  - Representa el cargo laboral del solicitante.  \n",
    "  - Tiene más de **300,000 valores únicos**, lo que la hace difícil de procesar sin técnicas avanzadas de reducción de dimensionalidad.  \n",
    "\n",
    "- **`zip_code`**  \n",
    "  - Representa el código postal del cliente.  \n",
    "  - Tiene una alta cardinalidad y baja correlación con el incumplimiento.  \n",
    "\n",
    "---\n",
    "\n",
    "## **3️ Características con Problemas Temporales**\n",
    "Estas variables dependen del momento en el que se consulta el dataset, lo que podría generar sesgos en el modelo.\n",
    "\n",
    "- **`next_pymnt_d`, `last_pymnt_d`, `last_credit_pull_d`, `issue_d`, `earliest_cr_line`**  \n",
    "  - Contienen fechas que pueden cambiar con el tiempo.  \n",
    "  - Introducen dependencia temporal en el modelo, haciendo que las predicciones sean inconsistentes.  \n",
    "\n",
    "---\n",
    "\n",
    "## **4️ Características Disponibles Solo Después del Crédito**\n",
    "Estas variables contienen información que solo se conoce **después de la aprobación o ejecución del crédito**, lo que introduce fuga de datos.\n",
    "\n",
    "- **`collection_recovery_fee`, `recoveries`**  \n",
    "  - Representan montos recuperados después del incumplimiento.  \n",
    "  - No son útiles porque solo están disponibles **después del evento de impago**.  \n",
    "\n",
    "- **`last_pymnt_amnt`, `total_rec_prncp`, `total_rec_int`, `total_rec_late_fee`, `out_prncp`, `out_prncp_inv`**  \n",
    "  - Son montos relacionados con pagos que solo se conocen **después de que se ha realizado el crédito**.  \n",
    "\n",
    "---\n",
    "\n",
    "## **5️ Características Prospectivas (No Disponibles en la Solicitud)**\n",
    "Estas variables dependen de la aprobación del préstamo y no pueden usarse para predecir incumplimiento **antes** de la aprobación.\n",
    "\n",
    "- **`int_rate`, `installment`, `term`, `purpose`**  \n",
    "  - Son características definidas **por la entidad financiera tras la aprobación del crédito**.  \n",
    "  - No se pueden usar en el momento de la solicitud.  \n",
    "\n",
    "- **`initial_list_status`**  \n",
    "  - Propiedad definida por la entidad financiera, no por el solicitante.  \n",
    "\n",
    "---\n",
    "\n",
    "## **6️ Características Basadas en Historial Crediticio**\n",
    "Se eliminan estas variables porque asumimos que el solicitante **podría estar accediendo a su primer crédito**, por lo que su historial previo no está disponible.\n",
    "\n",
    "- **`dti`, `inq_last_6mths`, `pub_rec`, `revol_bal`, `revol_util`, `acc_now_delinq`, `tot_coll_amt`, `collections_12_mths_ex_med`, `total_rev_hi_lim`**  \n",
    "\n",
    "---\n",
    "\n",
    "## **7️ Características con Baja Variabilidad**\n",
    "Variables que tienen valores casi constantes y no aportan información relevante al modelo.\n",
    "\n",
    "- **`pymnt_plan`**  \n",
    "  - La gran mayoría de las observaciones tienen el valor `\"n\"`, lo que la hace poco útil.  \n",
    "\n",
    "---\n",
    "\n",
    "## **8️ Otras Características Eliminadas**\n",
    "- **`sub_grade` y `grade`**  \n",
    "  - Son calificaciones asignadas por la entidad financiera, **no disponibles antes de la aprobación del crédito**.  \n",
    "\n",
    "- **`verification_status`**  \n",
    "  - Propiedad determinada por la entidad financiera, no por el cliente.  \n",
    "\n",
    "- **`application_type`**  \n",
    "  - Se busca predecir la probabilidad de incumplimiento de **una persona**, no de un grupo.  \n",
    "\n"
   ]
  },
  {
   "cell_type": "code",
   "execution_count": 64,
   "metadata": {},
   "outputs": [
    {
     "name": "stdout",
     "output_type": "stream",
     "text": [
      "Columnas eliminadas: ['addr_state', 'collection_recovery_fee', 'desc', 'title', 'zip_code', 'policy_code', 'member_id', 'id', 'url', 'next_pymnt_d', 'issue_d', 'emp_title', 'earliest_cr_line', 'pymnt_plan', 'last_pymnt_d', 'last_credit_pull_d', 'recoveries', 'sub_grade', 'grade', 'verification_status', 'dti', 'inq_last_6mths', 'pub_rec', 'revol_bal', 'revol_util', 'last_pymnt_amnt', 'acc_now_delinq', 'tot_coll_amt', 'total_rec_prncp', 'total_rec_int', 'total_rec_late_fee', 'collections_12_mths_ex_med', 'total_rev_hi_lim', 'out_prncp', 'initial_list_status', 'int_rate', 'installment', 'purpose', 'term', 'out_prncp_inv', 'application_type', 'loan_amnt', 'funded_amnt', 'funded_amnt_inv', 'total_pymnt_inv', 'total_pymnt']\n",
      "El dataset ha sido sobrescrito en 'loan_filtrado.csv'\n"
     ]
    }
   ],
   "source": [
    "# Lista de columnas a eliminar\n",
    "columns_to_remove = [\n",
    "    'addr_state', \n",
    "    'collection_recovery_fee',  # solo está disponible después de que el evento de incumplimiento haya ocurrido\n",
    "    'desc',  # irrelevante\n",
    "    'title',  # irrelevante\n",
    "    'zip_code',  # irrelevante\n",
    "    'policy_code', #irrelevante\n",
    "    'member_id', # irrelevante\n",
    "    'id', # irrelevante\n",
    "    'url', # irrelevante\n",
    "    'next_pymnt_d', # posibles problemas debido a fechas\n",
    "    'issue_d',  # posibles problemas debido a fechas\n",
    "    'emp_title',  # alta cardinalidad\n",
    "    'earliest_cr_line', # posibles problemas debido a fechas\n",
    "    'pymnt_plan', # poca variabilidad, solo 10 entradas en para \"y\", el resto para \"n\", poca correlacion con objetivo\n",
    "    'last_pymnt_d', # posibles problemas debido a fechas\n",
    "    'last_credit_pull_d', # posibles problemas debido a fechas\n",
    "    'recoveries', # solo está disponible después de que el evento de incumplimiento haya ocurrido\n",
    "    'sub_grade', # calificación dada por entidades financieras, no posible de conocer\n",
    "    'grade', # calificación dada por entidades financieras, no posible de conocer\n",
    "    'verification_status', # propiedad dada por entidad financiera, no depende del posible cliente\n",
    "    'dti', # se asume que el cliente no tiene deudas diferentes a la que solicita\n",
    "    'inq_last_6mths', # se asume que no se conoce el historial crediticio del solicitante, ya que podría ser su primer crédito\n",
    "    'pub_rec', # se asume que no se conoce el historial crediticio del solicitante, ya que podría ser su primer crédito\n",
    "    'revol_bal', # imposible de conocer antes del crédito\n",
    "    'revol_util',  # se asume que no se conoce el historial crediticio del solicitante, ya que podría ser su primer crédito\n",
    "    'last_pymnt_amnt', # solo está disponible después de que se haya realizado el crédito\n",
    "    'acc_now_delinq', # se asume que no se conoce el historial crediticio del solicitante, ya que podría ser su primer crédito\n",
    "    'tot_coll_amt', # se asume que no se conoce el historial crediticio del solicitante, ya que podría ser su primer crédito\n",
    "    'total_rec_prncp', # solo está disponible después de que se haya realizado el crédito\n",
    "    'total_rec_int', # solo está disponible después de que se haya realizado el crédito\n",
    "    'total_rec_late_fee', # solo está disponible después de que se haya realizado el crédito\n",
    "    'collections_12_mths_ex_med', # se asume que no se conoce el historial crediticio del solicitante, ya que podría ser su primer crédito\n",
    "    'total_rev_hi_lim', # se asume que no se conoce el historial crediticio del solicitante, ya que podría ser su primer crédito\n",
    "    'out_prncp', # solo está disponible después de que se haya realizado el crédito\n",
    "    'initial_list_status', # propiedad dada por entidad financiera, no depende del posible cliente\n",
    "    'int_rate', # caracteristica prospectiva, no se conoce antes de que el crédito sea aprobado\n",
    "    'installment', # caracteristica prospectiva, no se conoce antes de que el crédito sea aprobado\n",
    "    'purpose', # caracteristica prospectiva, no se conoce antes de que el crédito sea aprobado\n",
    "    'term', # caracteristica prospectiva, no se conoce antes de que el crédito sea aprobado\n",
    "    'out_prncp_inv', # solo está disponible después de que se haya realizado el crédito\n",
    "    'application_type', # se intenta hallar la probabilidad de que una persona incumpla, no un grupo de personas\n",
    "    'loan_amnt', # caracteristica prospectiva, no se conoce antes de que el crédito sea aprobado\n",
    "    'funded_amnt', # caracteristica prospectiva, no se conoce antes de que el crédito sea aprobado\n",
    "    'funded_amnt_inv', # caracteristica prospectiva, no se conoce antes de que el crédito sea aprobado\n",
    "    'total_pymnt_inv', # solo está disponible después de que se haya realizado el crédito\n",
    "    'total_pymnt', # solo está disponible después de que se haya realizado el crédito\n",
    "]\n",
    "\n",
    "# Eliminar las columnas especificadas directamente en el dataset filtrado\n",
    "dataset.drop(columns=columns_to_remove, errors='ignore', inplace=True)\n",
    "\n",
    "# Guardar el dataset sobrescrito en el mismo archivo\n",
    "dataset.to_csv('loan_filtrado.csv', index=False)\n",
    "\n",
    "# Mostrar las columnas eliminadas\n",
    "print(f\"Columnas eliminadas: {columns_to_remove}\")\n",
    "print(\"El dataset ha sido sobrescrito en 'loan_filtrado.csv'\")\n"
   ]
  },
  {
   "cell_type": "code",
   "execution_count": 65,
   "metadata": {},
   "outputs": [
    {
     "name": "stdout",
     "output_type": "stream",
     "text": [
      "Index(['emp_length', 'home_ownership', 'annual_inc', 'loan_status',\n",
      "       'delinq_2yrs', 'mths_since_last_delinq', 'open_acc', 'total_acc',\n",
      "       'tot_cur_bal'],\n",
      "      dtype='object')\n"
     ]
    }
   ],
   "source": [
    "print(dataset.columns)"
   ]
  },
  {
   "cell_type": "markdown",
   "metadata": {},
   "source": [
    "Se revisa nuevamente el porcentaje de completitud de cada característica en el dataset para revisar información faltante"
   ]
  },
  {
   "cell_type": "code",
   "execution_count": 66,
   "metadata": {},
   "outputs": [
    {
     "name": "stdout",
     "output_type": "stream",
     "text": [
      "                Attribute  Completeness (%)\n",
      "1          home_ownership        100.000000\n",
      "3             loan_status        100.000000\n",
      "2              annual_inc         99.999549\n",
      "4             delinq_2yrs         99.996732\n",
      "6                open_acc         99.996732\n",
      "7               total_acc         99.996732\n",
      "0              emp_length         94.948607\n",
      "8             tot_cur_bal         92.080498\n",
      "5  mths_since_last_delinq         48.802935\n"
     ]
    }
   ],
   "source": [
    "attribute_completeness1 = dataset.notnull().mean() * 100\n",
    "\n",
    "# Convertir los resultados en un DataFrame para facilitar su lectura\n",
    "attribute_completeness_df1 = attribute_completeness1.reset_index()\n",
    "attribute_completeness_df1.columns = ['Attribute', 'Completeness (%)']\n",
    "\n",
    "# Ordenar por porcentaje de completitud\n",
    "attribute_completeness_df1 = attribute_completeness_df1.sort_values(by='Completeness (%)', ascending=False)\n",
    "print(attribute_completeness_df1)"
   ]
  },
  {
   "cell_type": "markdown",
   "metadata": {},
   "source": [
    "se observa que la característica  mths_since_last_delinq es la única con mucha información faltante, así que se decide retirar ya que no es claro si un valor NaN significa 0, se retira para no correr riesgos."
   ]
  },
  {
   "cell_type": "code",
   "execution_count": 67,
   "metadata": {},
   "outputs": [
    {
     "name": "stdout",
     "output_type": "stream",
     "text": [
      "Columnas eliminadas: ['mths_since_last_delinq']\n",
      "El dataset modificado ha sido sobrescrito en 'loan_filtrado.csv'\n"
     ]
    }
   ],
   "source": [
    "# Lista de columnas a eliminar\n",
    "columns_to_remove = [\n",
    "    'mths_since_last_delinq'\n",
    "]\n",
    "\n",
    "# Eliminar las columnas directamente en el dataset\n",
    "dataset.drop(columns=columns_to_remove, errors='ignore', inplace=True)\n",
    "\n",
    "# Guardar el dataset modificado en el mismo archivo\n",
    "dataset.to_csv('loan_filtrado.csv', index=False)\n",
    "\n",
    "print(f\"Columnas eliminadas: {columns_to_remove}\")\n",
    "print(\"El dataset modificado ha sido sobrescrito en 'loan_filtrado.csv'\")\n"
   ]
  },
  {
   "cell_type": "markdown",
   "metadata": {},
   "source": [
    "después de revisar las variables categoricas, se decide modificar emp_length para ser numérica"
   ]
  },
  {
   "cell_type": "code",
   "execution_count": 49,
   "metadata": {},
   "outputs": [
    {
     "name": "stdout",
     "output_type": "stream",
     "text": [
      "El dataset modificado ha sido guardado como 'loan_filtrado.csv'.\n"
     ]
    }
   ],
   "source": [
    "import pandas as pd\n",
    "\n",
    "# Cargar el dataset\n",
    "\n",
    "# Función corregida para convertir la columna emp_length a enteros\n",
    "def emp_length_converter(df, column):\n",
    "    df[column] = df[column].str.replace(r'\\+ years', '', regex=True)  # Eliminar '+ years'\n",
    "    df[column] = df[column].str.replace(r'< 1 year', '0', regex=True)  # Reemplazar '< 1 year' por '0'\n",
    "    df[column] = df[column].str.replace(r' years', '', regex=True)    # Eliminar ' years'\n",
    "    df[column] = df[column].str.replace(r' year', '', regex=True)     # Eliminar ' year'\n",
    "    df[column] = df[column].str.replace(r'\\+', '', regex=True)        # Eliminar cualquier '+'\n",
    "    df[column] = pd.to_numeric(df[column], errors='coerce')           # Convertir a numérico (NaN si falla)\n",
    "\n",
    "\n",
    "# Aplicar la conversión\n",
    "emp_length_converter(dataset, 'emp_length')\n",
    "\n",
    "\n",
    "# Guardar el dataset modificado\n",
    "dataset.to_csv('loan_filtrado.csv', index=False)\n",
    "print(\"El dataset modificado ha sido guardado como 'loan_filtrado.csv'.\")\n"
   ]
  },
  {
   "cell_type": "markdown",
   "metadata": {},
   "source": [
    "### Clasificación de `loan_status` basada en el comportamiento de pago\n",
    "\n",
    "Para diferenciar entre clientes que no incumplen y que sí incumplen, se redefine la variable `loan_status` de la siguiente manera:\n",
    "\n",
    "#### **Clientes que incumplen (0)**\n",
    "- **Fully Paid**: Crédito completamente pagado.\n",
    "- **Does not meet the credit policy. Status: Fully Paid**: No cumplió con la política, pero fue pagado.\n",
    "\n",
    "#### **Clientes que no incumplen (1)**\n",
    "- **Charged Off**: Crédito declarado incobrable.\n",
    "- **Default**: Crédito en impago definitivo.\n",
    "- **Does not meet the credit policy. Status: Charged Off**: No cumplió con la política y no fue pagado.\n",
    "\n",
    "#### **Casos Indeterminados (NaN)**\n",
    "No permiten determinar si el cliente es bueno o malo y pueden ser excluidos o tratados según el análisis:\n",
    "- **Current**: Crédito al día, sin certeza de incumplimiento futuro.\n",
    "- **Late (16-30 days)**: Atraso menor a 30 días, sin indicar incumplimiento definitivo.\n",
    "- **Late (31-120 days)**: Atraso prolongado. Puede considerarse incumplido o indeterminado.\n",
    "- **Issued**: Crédito aprobado sin historial de pago.\n",
    "- **In Grace Period**: Crédito en periodo de gracia, sin evidencia de incumplimiento.\n",
    "\n",
    "\n",
    "Este criterio alinea la variable objetivo con la identificación real del riesgo de crédito.\n"
   ]
  },
  {
   "cell_type": "code",
   "execution_count": 69,
   "metadata": {},
   "outputs": [
    {
     "name": "stdout",
     "output_type": "stream",
     "text": [
      "loan_status\n",
      "NaN    618849\n",
      "0.0    209711\n",
      "1.0     58819\n",
      "Name: count, dtype: int64\n",
      "El dataset modificado ha sido guardado como 'cleanded_dataset.csv'.\n"
     ]
    }
   ],
   "source": [
    "import pandas as pd\n",
    "import numpy as np\n",
    "\n",
    "# Función para transformar la columna 'loan_status' correctamente\n",
    "def transform_loan_status(df, column):\n",
    "    # Diccionario de mapeo\n",
    "    status_mapping = {\n",
    "        \"Fully Paid\": 0,\n",
    "        \"Does not meet the credit policy. Status:Fully Paid\": 0,\n",
    "        \"Charged Off\": 1,\n",
    "        \"Default\": 1,\n",
    "        \"Late (31-120 days)\": 1,\n",
    "        \"Does not meet the credit policy. Status:Charged Off\": 1,\n",
    "        \"Current\": np.nan,  # No se pueden clasificar con certeza\n",
    "        \"Issued\": np.nan,  # No hay información de pagos\n",
    "        \"In Grace Period\": np.nan,  # Aún no han tenido oportunidad de incumplir\n",
    "        \"Late (16-30 days)\": np.nan,  # Aún es incierto si pagarán o no\n",
    "    }\n",
    "\n",
    "    # Aplicar la transformación usando el diccionario\n",
    "    df[column] = df[column].map(status_mapping)\n",
    "\n",
    "    return df\n",
    "\n",
    "# Cargar el dataset )\n",
    "dataset = pd.read_csv('loan_filtrado.csv')\n",
    "\n",
    "# Aplicar la transformación a 'loan_status'\n",
    "dataset = transform_loan_status(dataset, 'loan_status')\n",
    "\n",
    "# Verificar los cambios\n",
    "print(dataset['loan_status'].value_counts(dropna=False))\n",
    "\n",
    "# Guardar el dataset modificado sin las filas con valores NA en la variable objetivo\n",
    "dataset_cleaned = dataset.dropna(subset=['loan_status'])\n",
    "dataset_cleaned.to_csv('cleaned_dataset.csv', index=False)\n",
    "print(\"El dataset modificado ha sido guardado como 'cleanded_dataset.csv'.\")\n"
   ]
  },
  {
   "cell_type": "markdown",
   "metadata": {},
   "source": [
    "se lleva a cabo un test de chi cuadrado para identificar las variables categóricas más relevantes.\n",
    "todas tienen valor P muy bajo, lo que significa que todas aportan información útil al modelo."
   ]
  },
  {
   "cell_type": "code",
   "execution_count": 70,
   "metadata": {},
   "outputs": [
    {
     "name": "stdout",
     "output_type": "stream",
     "text": [
      "          Feature   Chi2 Value        P-Value\n",
      "1  home_ownership  1081.692497  3.147359e-237\n",
      "0      emp_length   633.892568  7.115864e-140\n",
      "Chi-squared test results saved to 'chi2_feature_selection.csv'.\n"
     ]
    }
   ],
   "source": [
    "import pandas as pd\n",
    "from sklearn.feature_selection import chi2\n",
    "from sklearn.preprocessing import LabelEncoder\n",
    "\n",
    "\n",
    "dataset = pd.read_csv('cleaned_dataset.csv')  \n",
    "\n",
    "# Specify the target column (binary classification)\n",
    "target_column = 'loan_status'  # Replace with the actual name of your target column\n",
    "\n",
    "# Ensure the target column is binary\n",
    "if len(dataset[target_column].unique()) != 2:\n",
    "    raise ValueError(\"The target column is not binary. Ensure it contains only two unique values.\")\n",
    "\n",
    "# Identify categorical features\n",
    "categorical_columns = dataset.select_dtypes(include=['object']).columns.tolist()\n",
    "\n",
    "# Remove the target column from the list of categorical features (if it's included)\n",
    "if target_column in categorical_columns:\n",
    "    categorical_columns.remove(target_column)\n",
    "\n",
    "# Encode categorical features and target variable\n",
    "label_encoders = {}\n",
    "for column in categorical_columns:\n",
    "    le = LabelEncoder()\n",
    "    dataset[column] = le.fit_transform(dataset[column].astype(str))\n",
    "    label_encoders[column] = le\n",
    "\n",
    "# Encode the target column if necessary\n",
    "if dataset[target_column].dtype == 'object':\n",
    "    dataset[target_column] = LabelEncoder().fit_transform(dataset[target_column])\n",
    "\n",
    "# Perform Chi-squared test\n",
    "chi2_values, p_values = chi2(dataset[categorical_columns], dataset[target_column])\n",
    "\n",
    "# Create a DataFrame with the results\n",
    "chi2_results = pd.DataFrame({\n",
    "    'Feature': categorical_columns,\n",
    "    'Chi2 Value': chi2_values,\n",
    "    'P-Value': p_values\n",
    "}).sort_values(by='Chi2 Value', ascending=False)\n",
    "\n",
    "# Display the results\n",
    "print(chi2_results)\n",
    "\n",
    "# Save the results to a CSV file\n",
    "chi2_results.to_csv('chi2_feature_selection.csv', index=False)\n",
    "print(\"Chi-squared test results saved to 'chi2_feature_selection.csv'.\")\n"
   ]
  },
  {
   "cell_type": "markdown",
   "metadata": {},
   "source": [
    "ahora se eliminan las filas que tengan al menos un campo con información faltante"
   ]
  },
  {
   "cell_type": "code",
   "execution_count": 71,
   "metadata": {},
   "outputs": [
    {
     "name": "stdout",
     "output_type": "stream",
     "text": [
      "Total de filas después de eliminar las filas con NaN: 201934\n",
      "El dataset limpio ha sido guardado como 'cleaned_dataset.csv'.\n"
     ]
    }
   ],
   "source": [
    "# Eliminar las filas con al menos un NaN\n",
    "\n",
    "dataset = dataset.dropna()\n",
    "print(f\"Total de filas después de eliminar las filas con NaN: {dataset.shape[0]}\")\n",
    "\n",
    "  #  Guardar el dataset limpio s\n",
    "dataset.to_csv('cleaned_dataset.csv', index=False)\n",
    "print(\"El dataset limpio ha sido guardado como 'cleaned_dataset.csv'.\")"
   ]
  },
  {
   "cell_type": "markdown",
   "metadata": {},
   "source": [
    "**CARACTERISTICAS A UTILIZAR**"
   ]
  },
  {
   "cell_type": "code",
   "execution_count": 1,
   "metadata": {},
   "outputs": [
    {
     "ename": "NameError",
     "evalue": "name 'dataset' is not defined",
     "output_type": "error",
     "traceback": [
      "\u001b[1;31m---------------------------------------------------------------------------\u001b[0m",
      "\u001b[1;31mNameError\u001b[0m                                 Traceback (most recent call last)",
      "Cell \u001b[1;32mIn[1], line 1\u001b[0m\n\u001b[1;32m----> 1\u001b[0m \u001b[38;5;28mprint\u001b[39m(\u001b[43mdataset\u001b[49m\u001b[38;5;241m.\u001b[39mdtypes)\n",
      "\u001b[1;31mNameError\u001b[0m: name 'dataset' is not defined"
     ]
    }
   ],
   "source": [
    "print(dataset.dtypes)"
   ]
  }
 ],
 "metadata": {
  "kernelspec": {
   "display_name": "Python 3",
   "language": "python",
   "name": "python3"
  },
  "language_info": {
   "codemirror_mode": {
    "name": "ipython",
    "version": 3
   },
   "file_extension": ".py",
   "mimetype": "text/x-python",
   "name": "python",
   "nbconvert_exporter": "python",
   "pygments_lexer": "ipython3",
   "version": "3.11.5"
  }
 },
 "nbformat": 4,
 "nbformat_minor": 2
}
