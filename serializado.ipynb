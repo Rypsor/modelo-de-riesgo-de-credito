{
 "cells": [
  {
   "cell_type": "markdown",
   "metadata": {},
   "source": [
    "# Se serializa el modelo"
   ]
  },
  {
   "cell_type": "code",
   "execution_count": null,
   "metadata": {},
   "outputs": [],
   "source": [
    "import pickle\n",
    "\n",
    "# Guardar el modelo con Keras\n",
    "model_path = \"best_model.keras\"\n",
    "\n",
    "# Serializar la ruta al modelo\n",
    "with open(\"modelo_probabilidad.pkl\", \"wb\") as f:\n",
    "    pickle.dump(model_path, f)\n",
    "\n",
    "\n",
    "\n",
    "\n"
   ]
  },
  {
   "cell_type": "markdown",
   "metadata": {},
   "source": [
    "# Se carga el modelo"
   ]
  },
  {
   "cell_type": "code",
   "execution_count": 3,
   "metadata": {},
   "outputs": [
    {
     "name": "stdout",
     "output_type": "stream",
     "text": [
      "<class 'keras.src.models.sequential.Sequential'>\n"
     ]
    },
    {
     "name": "stderr",
     "output_type": "stream",
     "text": [
      "c:\\Users\\samue\\AppData\\Local\\Programs\\Python\\Python311\\Lib\\site-packages\\keras\\src\\saving\\saving_lib.py:757: UserWarning: Skipping variable loading for optimizer 'adam', because it has 34 variables whereas the saved optimizer has 38 variables. \n",
      "  saveable.load_own_variables(weights_store.get(inner_path))\n"
     ]
    }
   ],
   "source": [
    "import pickle\n",
    "from tensorflow.keras.models import load_model\n",
    "# Para cargar el modelo desde el archivo pickle\n",
    "with open(\"modelo_probabilidad.pkl\", \"rb\") as f:\n",
    "    loaded_model_path = pickle.load(f)\n",
    "\n",
    "model = load_model(loaded_model_path)\n",
    "\n",
    "print(type(model))"
   ]
  },
  {
   "cell_type": "markdown",
   "metadata": {},
   "source": [
    "# Se utiliza el modelo"
   ]
  },
  {
   "cell_type": "code",
   "execution_count": null,
   "metadata": {},
   "outputs": [],
   "source": [
    "import numpy as np\n",
    "import pandas as pd\n",
    "import joblib\n",
    "from tensorflow.keras.models import load_model\n",
    "\n",
    "# Cargar el modelo entrenado\n",
    "best_model = load_model(\"best_model.keras\")\n",
    "\n",
    "# Cargar el scaler guardado\n",
    "scaler = joblib.load('scaler.pkl')\n",
    "\n",
    "# Lista de características utilizadas en el modelo\n",
    "selected_features = [\n",
    "    'emp_length', 'home_ownership', 'annual_inc', 'delinq_2yrs', 'open_acc',\n",
    "    'total_acc', 'tot_cur_bal'\n",
    "]\n",
    "\n",
    "# Mapeo manual de categorías a valores numéricos\n",
    "categoria_a_numero = {\n",
    "    'RENT': 0,\n",
    "    'OWN': 1,\n",
    "    'MORTGAGE': 2,\n",
    "    'OTHER': 3\n",
    "}\n",
    "\n",
    "# Función para procesar un vector de características y predecir la probabilidad de incumplimiento\n",
    "def predecir_incumplimiento(vector_caracteristicas):\n",
    "    \"\"\"\n",
    "    Procesa un vector de características y devuelve la probabilidad de incumplimiento.\n",
    "\n",
    "    Parámetros:\n",
    "    - vector_caracteristicas: Lista o array con los valores de las características en el siguiente orden:\n",
    "        ['emp_length', 'home_ownership', 'annual_inc', 'delinq_2yrs', 'open_acc', 'total_acc', 'tot_cur_bal']\n",
    "\n",
    "    Retorna:\n",
    "    - probabilidad_incumplimiento: Probabilidad de que el cliente incumpla (valor entre 0 y 1).\n",
    "    \"\"\"\n",
    "    # Convertir el vector a un DataFrame para facilitar el procesamiento\n",
    "    df = pd.DataFrame([vector_caracteristicas], columns=selected_features)\n",
    "\n",
    "    # Aplicar el mapeo manual a la columna 'home_ownership'\n",
    "    df['home_ownership'] = df['home_ownership'].map(categoria_a_numero).fillna(-1)  # Usar -1 para categorías desconocidas\n",
    "\n",
    "    # Convertir las columnas numéricas a tipo float\n",
    "    df = df.astype(float)\n",
    "\n",
    "    # Aplicar la normalización usando el scaler guardado\n",
    "    vector_normalizado = scaler.transform(df)\n",
    "\n",
    "    # Realizar la predicción con el modelo\n",
    "    probabilidad_incumplimiento = best_model.predict(vector_normalizado)[0][0]\n",
    "\n",
    "    return probabilidad_incumplimiento\n",
    "\n",
    "\n",
    "\n",
    "\n",
    "vector_ejemplo = [\n",
    "        0, \"MORTGAGE\", 50.0, 3.0, 12.0, 2.0, 10000.0\n",
    "    ]  # emp_length, home_ownership, annual_inc, delinq_2yrs, open_acc, total_acc, tot_cur_bal\n",
    "\n",
    "    # Predecir la probabilidad de incumplimiento\n",
    "probabilidad = predecir_incumplimiento(vector_ejemplo)\n",
    "print(f\"🔹 Probabilidad de incumplimiento: {probabilidad:.4f}\")"
   ]
  },
  {
   "cell_type": "markdown",
   "metadata": {},
   "source": []
  }
 ],
 "metadata": {
  "kernelspec": {
   "display_name": "Python 3",
   "language": "python",
   "name": "python3"
  },
  "language_info": {
   "codemirror_mode": {
    "name": "ipython",
    "version": 3
   },
   "file_extension": ".py",
   "mimetype": "text/x-python",
   "name": "python",
   "nbconvert_exporter": "python",
   "pygments_lexer": "ipython3",
   "version": "3.11.5"
  }
 },
 "nbformat": 4,
 "nbformat_minor": 2
}
