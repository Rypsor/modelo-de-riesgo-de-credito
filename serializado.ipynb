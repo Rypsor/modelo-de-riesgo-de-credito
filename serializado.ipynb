{
 "cells": [
  {
   "cell_type": "code",
   "execution_count": 1,
   "metadata": {},
   "outputs": [],
   "source": [
    "import pickle\n",
    "from tensorflow.keras.models import load_model\n",
    "\n",
    "# Guardar el modelo con Keras\n",
    "model_path = \"modelo_entrenado.keras\"\n",
    "\n",
    "# Serializar la ruta al modelo\n",
    "with open(\"model_path.pkl\", \"wb\") as f:\n",
    "    pickle.dump(model_path, f)\n",
    "\n",
    "# Para cargar el modelo desde el archivo pickle\n",
    "with open(\"model_path.pkl\", \"rb\") as f:\n",
    "    loaded_model_path = pickle.load(f)\n",
    "\n",
    "model = load_model(loaded_model_path)\n"
   ]
  }
 ],
 "metadata": {
  "kernelspec": {
   "display_name": "Python 3",
   "language": "python",
   "name": "python3"
  },
  "language_info": {
   "codemirror_mode": {
    "name": "ipython",
    "version": 3
   },
   "file_extension": ".py",
   "mimetype": "text/x-python",
   "name": "python",
   "nbconvert_exporter": "python",
   "pygments_lexer": "ipython3",
   "version": "3.11.5"
  }
 },
 "nbformat": 4,
 "nbformat_minor": 2
}
